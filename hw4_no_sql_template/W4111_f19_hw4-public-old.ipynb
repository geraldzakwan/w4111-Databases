{
 "cells": [
  {
   "cell_type": "markdown",
   "metadata": {},
   "source": [
    "<p style=\"font-size:30px; text-align:center; line-height:120%\">\n",
    "<br>\n",
    "COMS W 4111-02, H02, V02<br>\n",
    "Homework 4\n",
    "</p>"
   ]
  },
  {
   "cell_type": "markdown",
   "metadata": {},
   "source": [
    "# Setup\n",
    "\n",
    "- Setting Up the Environment\n",
    "    - Environment:\n",
    "        - You will need to use Neo4j and Redis to complete this homework assignment.\n",
    "        - Neo4j\n",
    "            - Please follow the instructions in the previous [recorded makeup lecture](https://cvn.hosted.panopto.com/Panopto/Pages/Viewer.aspx?id=169786d3-c838-4f2c-ada6-ab1800d0e654) for setting up a cloud version of Neo4j.\n",
    "            - You must have installed the sample movie database. The recorded lecture has instructions.\n",
    "            - You must install the [Neo4j REST Client](https://docs.graphenedb.com/docs/python#section-neo4j-rest-client). The easiest way to do this is:\n",
    "                - Go to the ```File``` menu option in the Notebook and select ```Open.``` This will open a new file explorer.\n",
    "                - On the upper right hand corner, click on ```New``` and choose terminal. This will open a terminal window.\n",
    "                - In the terminal window, enter ```pip install neo4jrestclient```\n",
    "        - Redis:\n",
    "            - Please follow the instructions in the [recorded makeup lecture](https://cvn.hosted.panopto.com/Panopto/Pages/Viewer.aspx?id=169786d3-c838-4f2c-ada6-ab1800d0e654) for setting up a cloud version of Redis.\n",
    "            - You do not need to install or configure any data.\n",
    "            - The Anaconda environment comes with a Redis client.\n",
    "    - Section 2 tests your setup."
   ]
  },
  {
   "cell_type": "markdown",
   "metadata": {},
   "source": [
    "# Environment Test\n"
   ]
  },
  {
   "cell_type": "code",
   "execution_count": 194,
   "metadata": {},
   "outputs": [],
   "source": [
    "import json\n",
    "import pandas"
   ]
  },
  {
   "cell_type": "markdown",
   "metadata": {},
   "source": [
    "## Neo4j"
   ]
  },
  {
   "cell_type": "code",
   "execution_count": 195,
   "metadata": {},
   "outputs": [],
   "source": [
    "import neo4jrestclient\n",
    "from neo4jrestclient.client import GraphDatabase\n",
    "\n",
    "import urllib3\n",
    "urllib3.disable_warnings(urllib3.exceptions.InsecureRequestWarning)\n",
    "\n",
    "neo4jrestclient.options.VERIFY_SSL = False \n",
    "\n",
    "neo4j_host = \"https://hobby-goabopedajfpgbkekbmjledl.dbs.graphenedb.com:24780/db/data/\"\n",
    "neo4j_user = \"dff\"\n",
    "neo4j_password = \"b.gbtWqr0pUhGH.pXp6S2jMfYf252w1\"\n",
    "\n",
    "gdb = GraphDatabase(neo4j_host, username = neo4j_user, password = neo4j_password)"
   ]
  },
  {
   "cell_type": "code",
   "execution_count": 196,
   "metadata": {},
   "outputs": [],
   "source": [
    "def get_stuff(d):\n",
    "    result = {}\n",
    "    result['id'] = d['metadata']['id']\n",
    "    result['labels'] = d['metadata'].get('labels', None)\n",
    "    result['properties'] = d['data']\n",
    "    return result\n"
   ]
  },
  {
   "cell_type": "markdown",
   "metadata": {},
   "source": [
    "__Testing Getting Tom Hanks__"
   ]
  },
  {
   "cell_type": "code",
   "execution_count": 197,
   "metadata": {},
   "outputs": [
    {
     "name": "stdout",
     "output_type": "stream",
     "text": [
      "N =  {\n",
      "  \"id\": 71,\n",
      "  \"labels\": [\n",
      "    \"Person\"\n",
      "  ],\n",
      "  \"properties\": {\n",
      "    \"born\": 1956,\n",
      "    \"name\": \"Tom Hanks\"\n",
      "  }\n",
      "}\n"
     ]
    }
   ],
   "source": [
    "result = gdb.query(\"MATCH (n:Person) where n.name='Tom Hanks' return n\")\n",
    "for record in result:\n",
    "    n = get_stuff(record[0])\n",
    "    print(\"N = \", json.dumps(n, indent=2))"
   ]
  },
  {
   "cell_type": "markdown",
   "metadata": {},
   "source": [
    "__Testing a More Complex Thing__"
   ]
  },
  {
   "cell_type": "code",
   "execution_count": 12,
   "metadata": {},
   "outputs": [
    {
     "name": "stdout",
     "output_type": "stream",
     "text": [
      "\tActor =  {\"id\": 71, \"labels\": [\"Person\"], \"properties\": {\"born\": 1956, \"name\": \"Tom Hanks\"}}\n",
      "\tRelationship =  {\"id\": 202, \"labels\": null, \"properties\": {\"roles\": [\"Jim Lovell\"]}}\n",
      "\tMovie =  {\"id\": 144, \"labels\": [\"Movie\"], \"properties\": {\"tagline\": \"Houston, we have a problem.\", \"title\": \"Apollo 13\", \"released\": 1995}}\n",
      "\n",
      "\tActor =  {\"id\": 71, \"labels\": [\"Person\"], \"properties\": {\"born\": 1956, \"name\": \"Tom Hanks\"}}\n",
      "\tRelationship =  {\"id\": 84, \"labels\": null, \"properties\": {\"roles\": [\"Joe Fox\"]}}\n",
      "\tMovie =  {\"id\": 67, \"labels\": [\"Movie\"], \"properties\": {\"tagline\": \"At odds in life... in love on-line.\", \"title\": \"You've Got Mail\", \"released\": 1998}}\n",
      "\n",
      "\tActor =  {\"id\": 71, \"labels\": [\"Person\"], \"properties\": {\"born\": 1956, \"name\": \"Tom Hanks\"}}\n",
      "\tRelationship =  {\"id\": 234, \"labels\": null, \"properties\": {\"roles\": [\"Jimmy Dugan\"]}}\n",
      "\tMovie =  {\"id\": 162, \"labels\": [\"Movie\"], \"properties\": {\"tagline\": \"Once in a lifetime you get a chance to do something different.\", \"title\": \"A League of Their Own\", \"released\": 1992}}\n",
      "\n",
      "\tActor =  {\"id\": 71, \"labels\": [\"Person\"], \"properties\": {\"born\": 1956, \"name\": \"Tom Hanks\"}}\n",
      "\tRelationship =  {\"id\": 98, \"labels\": null, \"properties\": {\"roles\": [\"Joe Banks\"]}}\n",
      "\tMovie =  {\"id\": 78, \"labels\": [\"Movie\"], \"properties\": {\"tagline\": \"A story of love, lava and burning desire.\", \"title\": \"Joe Versus the Volcano\", \"released\": 1990}}\n",
      "\n",
      "\tActor =  {\"id\": 71, \"labels\": [\"Person\"], \"properties\": {\"born\": 1956, \"name\": \"Tom Hanks\"}}\n",
      "\tRelationship =  {\"id\": 110, \"labels\": null, \"properties\": {\"roles\": [\"Mr. White\"]}}\n",
      "\tMovie =  {\"id\": 85, \"labels\": [\"Movie\"], \"properties\": {\"tagline\": \"In every life there comes a time when that thing you dream becomes that thing you do\", \"title\": \"That Thing You Do\", \"released\": 1996}}\n",
      "\n",
      "\tActor =  {\"id\": 71, \"labels\": [\"Person\"], \"properties\": {\"born\": 1956, \"name\": \"Tom Hanks\"}}\n",
      "\tRelationship =  {\"id\": 146, \"labels\": null, \"properties\": {\"roles\": [\"Dr. Robert Langdon\"]}}\n",
      "\tMovie =  {\"id\": 111, \"labels\": [\"Movie\"], \"properties\": {\"tagline\": \"Break The Codes\", \"title\": \"The Da Vinci Code\", \"released\": 2006}}\n",
      "\n",
      "\tActor =  {\"id\": 71, \"labels\": [\"Person\"], \"properties\": {\"born\": 1956, \"name\": \"Tom Hanks\"}}\n",
      "\tRelationship =  {\"id\": 137, \"labels\": null, \"properties\": {\"roles\": [\"Zachry\", \"Dr. Henry Goose\", \"Isaac Sachs\", \"Dermot Hoggins\"]}}\n",
      "\tMovie =  {\"id\": 105, \"labels\": [\"Movie\"], \"properties\": {\"tagline\": \"Everything is connected\", \"title\": \"Cloud Atlas\", \"released\": 2012}}\n",
      "\n",
      "\tActor =  {\"id\": 71, \"labels\": [\"Person\"], \"properties\": {\"born\": 1956, \"name\": \"Tom Hanks\"}}\n",
      "\tRelationship =  {\"id\": 213, \"labels\": null, \"properties\": {\"roles\": [\"Chuck Noland\"]}}\n",
      "\tMovie =  {\"id\": 150, \"labels\": [\"Movie\"], \"properties\": {\"tagline\": \"At the edge of the world, his journey begins.\", \"title\": \"Cast Away\", \"released\": 2000}}\n",
      "\n",
      "\tActor =  {\"id\": 71, \"labels\": [\"Person\"], \"properties\": {\"born\": 1956, \"name\": \"Tom Hanks\"}}\n",
      "\tRelationship =  {\"id\": 182, \"labels\": null, \"properties\": {\"roles\": [\"Paul Edgecomb\"]}}\n",
      "\tMovie =  {\"id\": 130, \"labels\": [\"Movie\"], \"properties\": {\"tagline\": \"Walk a mile you'll never forget.\", \"title\": \"The Green Mile\", \"released\": 1999}}\n",
      "\n",
      "\tActor =  {\"id\": 71, \"labels\": [\"Person\"], \"properties\": {\"born\": 1956, \"name\": \"Tom Hanks\"}}\n",
      "\tRelationship =  {\"id\": 91, \"labels\": null, \"properties\": {\"roles\": [\"Sam Baldwin\"]}}\n",
      "\tMovie =  {\"id\": 73, \"labels\": [\"Movie\"], \"properties\": {\"tagline\": \"What if someone you never met, someone you never saw, someone you never knew was the only someone for you?\", \"title\": \"Sleepless in Seattle\", \"released\": 1993}}\n",
      "\n",
      "\tActor =  {\"id\": 71, \"labels\": [\"Person\"], \"properties\": {\"born\": 1956, \"name\": \"Tom Hanks\"}}\n",
      "\tRelationship =  {\"id\": 232, \"labels\": null, \"properties\": {\"roles\": [\"Hero Boy\", \"Father\", \"Conductor\", \"Hobo\", \"Scrooge\", \"Santa Claus\"]}}\n",
      "\tMovie =  {\"id\": 161, \"labels\": [\"Movie\"], \"properties\": {\"tagline\": \"This Holiday Season\\u2026 Believe\", \"title\": \"The Polar Express\", \"released\": 2004}}\n",
      "\n",
      "\tActor =  {\"id\": 71, \"labels\": [\"Person\"], \"properties\": {\"born\": 1956, \"name\": \"Tom Hanks\"}}\n",
      "\tRelationship =  {\"id\": 228, \"labels\": null, \"properties\": {\"roles\": [\"Rep. Charlie Wilson\"]}}\n",
      "\tMovie =  {\"id\": 159, \"labels\": [\"Movie\"], \"properties\": {\"tagline\": \"A stiff drink. A little mascara. A lot of nerve. Who said they couldn't bring down the Soviet empire.\", \"title\": \"Charlie Wilson's War\", \"released\": 2007}}\n",
      "\n"
     ]
    }
   ],
   "source": [
    "result = gdb.query(\"MATCH (n:Person)-[r:ACTED_IN]->(m:Movie) where n.name='Tom Hanks' return n,r,m\")\n",
    "for record in result:\n",
    "    actor = get_stuff(record[0])\n",
    "    rel = get_stuff(record[1])\n",
    "    movie = get_stuff(record[2])\n",
    "    print(\"\\tActor = \", json.dumps(actor))\n",
    "    print(\"\\tRelationship = \", json.dumps(rel))\n",
    "    print(\"\\tMovie = \", json.dumps(movie))\n",
    "    print(\"\")\n",
    "    "
   ]
  },
  {
   "cell_type": "markdown",
   "metadata": {},
   "source": [
    "__Testing Some Cooler Stuff__"
   ]
  },
  {
   "cell_type": "code",
   "execution_count": 201,
   "metadata": {},
   "outputs": [
    {
     "data": {
      "text/html": [
       "<div>\n",
       "<style scoped>\n",
       "    .dataframe tbody tr th:only-of-type {\n",
       "        vertical-align: middle;\n",
       "    }\n",
       "\n",
       "    .dataframe tbody tr th {\n",
       "        vertical-align: top;\n",
       "    }\n",
       "\n",
       "    .dataframe thead th {\n",
       "        text-align: right;\n",
       "    }\n",
       "</style>\n",
       "<table border=\"1\" class=\"dataframe\">\n",
       "  <thead>\n",
       "    <tr style=\"text-align: right;\">\n",
       "      <th></th>\n",
       "      <th>Name</th>\n",
       "      <th>Roles</th>\n",
       "      <th>Title</th>\n",
       "      <th>Released</th>\n",
       "    </tr>\n",
       "  </thead>\n",
       "  <tbody>\n",
       "    <tr>\n",
       "      <td>0</td>\n",
       "      <td>Tom Hanks</td>\n",
       "      <td>[Jim Lovell]</td>\n",
       "      <td>Apollo 13</td>\n",
       "      <td>1995</td>\n",
       "    </tr>\n",
       "    <tr>\n",
       "      <td>1</td>\n",
       "      <td>Tom Hanks</td>\n",
       "      <td>[Joe Fox]</td>\n",
       "      <td>You've Got Mail</td>\n",
       "      <td>1998</td>\n",
       "    </tr>\n",
       "    <tr>\n",
       "      <td>2</td>\n",
       "      <td>Tom Hanks</td>\n",
       "      <td>[Jimmy Dugan]</td>\n",
       "      <td>A League of Their Own</td>\n",
       "      <td>1992</td>\n",
       "    </tr>\n",
       "    <tr>\n",
       "      <td>3</td>\n",
       "      <td>Tom Hanks</td>\n",
       "      <td>[Joe Banks]</td>\n",
       "      <td>Joe Versus the Volcano</td>\n",
       "      <td>1990</td>\n",
       "    </tr>\n",
       "    <tr>\n",
       "      <td>4</td>\n",
       "      <td>Tom Hanks</td>\n",
       "      <td>[Mr. White]</td>\n",
       "      <td>That Thing You Do</td>\n",
       "      <td>1996</td>\n",
       "    </tr>\n",
       "    <tr>\n",
       "      <td>5</td>\n",
       "      <td>Tom Hanks</td>\n",
       "      <td>[Dr. Robert Langdon]</td>\n",
       "      <td>The Da Vinci Code</td>\n",
       "      <td>2006</td>\n",
       "    </tr>\n",
       "    <tr>\n",
       "      <td>6</td>\n",
       "      <td>Tom Hanks</td>\n",
       "      <td>[Zachry, Dr. Henry Goose, Isaac Sachs, Dermot ...</td>\n",
       "      <td>Cloud Atlas</td>\n",
       "      <td>2012</td>\n",
       "    </tr>\n",
       "    <tr>\n",
       "      <td>7</td>\n",
       "      <td>Tom Hanks</td>\n",
       "      <td>[Chuck Noland]</td>\n",
       "      <td>Cast Away</td>\n",
       "      <td>2000</td>\n",
       "    </tr>\n",
       "    <tr>\n",
       "      <td>8</td>\n",
       "      <td>Tom Hanks</td>\n",
       "      <td>[Paul Edgecomb]</td>\n",
       "      <td>The Green Mile</td>\n",
       "      <td>1999</td>\n",
       "    </tr>\n",
       "    <tr>\n",
       "      <td>9</td>\n",
       "      <td>Tom Hanks</td>\n",
       "      <td>[Sam Baldwin]</td>\n",
       "      <td>Sleepless in Seattle</td>\n",
       "      <td>1993</td>\n",
       "    </tr>\n",
       "    <tr>\n",
       "      <td>10</td>\n",
       "      <td>Tom Hanks</td>\n",
       "      <td>[Hero Boy, Father, Conductor, Hobo, Scrooge, S...</td>\n",
       "      <td>The Polar Express</td>\n",
       "      <td>2004</td>\n",
       "    </tr>\n",
       "    <tr>\n",
       "      <td>11</td>\n",
       "      <td>Tom Hanks</td>\n",
       "      <td>[Rep. Charlie Wilson]</td>\n",
       "      <td>Charlie Wilson's War</td>\n",
       "      <td>2007</td>\n",
       "    </tr>\n",
       "  </tbody>\n",
       "</table>\n",
       "</div>"
      ],
      "text/plain": [
       "         Name                                              Roles  \\\n",
       "0   Tom Hanks                                       [Jim Lovell]   \n",
       "1   Tom Hanks                                          [Joe Fox]   \n",
       "2   Tom Hanks                                      [Jimmy Dugan]   \n",
       "3   Tom Hanks                                        [Joe Banks]   \n",
       "4   Tom Hanks                                        [Mr. White]   \n",
       "5   Tom Hanks                               [Dr. Robert Langdon]   \n",
       "6   Tom Hanks  [Zachry, Dr. Henry Goose, Isaac Sachs, Dermot ...   \n",
       "7   Tom Hanks                                     [Chuck Noland]   \n",
       "8   Tom Hanks                                    [Paul Edgecomb]   \n",
       "9   Tom Hanks                                      [Sam Baldwin]   \n",
       "10  Tom Hanks  [Hero Boy, Father, Conductor, Hobo, Scrooge, S...   \n",
       "11  Tom Hanks                              [Rep. Charlie Wilson]   \n",
       "\n",
       "                     Title  Released  \n",
       "0                Apollo 13      1995  \n",
       "1          You've Got Mail      1998  \n",
       "2    A League of Their Own      1992  \n",
       "3   Joe Versus the Volcano      1990  \n",
       "4        That Thing You Do      1996  \n",
       "5        The Da Vinci Code      2006  \n",
       "6              Cloud Atlas      2012  \n",
       "7                Cast Away      2000  \n",
       "8           The Green Mile      1999  \n",
       "9     Sleepless in Seattle      1993  \n",
       "10       The Polar Express      2004  \n",
       "11    Charlie Wilson's War      2007  "
      ]
     },
     "execution_count": 201,
     "metadata": {},
     "output_type": "execute_result"
    }
   ],
   "source": [
    "q =  \"\"\"MATCH (n:Person)-[r:ACTED_IN]->(m:Movie) where n.name='Tom Hanks'\n",
    "        return n.name,r.roles,m.title,m.released\"\"\"\n",
    "result = gdb.query(q)\n",
    "   \n",
    "df = pandas.DataFrame(result, columns=[\"Name\", \"Roles\", \"Title\", \"Released\"])    \n",
    "\n",
    "df\n",
    "    "
   ]
  },
  {
   "cell_type": "markdown",
   "metadata": {},
   "source": [
    "## Redis"
   ]
  },
  {
   "cell_type": "code",
   "execution_count": 203,
   "metadata": {},
   "outputs": [],
   "source": [
    "import redis\n",
    "\n",
    "rd = redis.Redis(host=\"SG-W4111-28452.servers.mongodirector.com\", password=\"FLGnHvHVnaG9Erq6tWOH1R92ip94608F\")\n",
    "\n",
    "\n",
    "data = json.dumps(list(result))\n",
    "key = \"Tom Hanks:ACTED_IN\"\n",
    "res = rd.set(key, data)"
   ]
  },
  {
   "cell_type": "code",
   "execution_count": 205,
   "metadata": {},
   "outputs": [
    {
     "name": "stdout",
     "output_type": "stream",
     "text": [
      "Result =  [b'\"Movie:{\\\\\"released\\\\\": 2008}\"', b'Tom Hanks:ACTED_IN', b'\"Movie:{\\\\\"released\\\\\": 2008, \\\\\"title\\\\\": \\\\\"Frost/Nixon\\\\\"}\"', b'somestring', b'somejson']\n"
     ]
    }
   ],
   "source": [
    "result = rd.keys(\"*\")\n",
    "print(\"Result = \", result)"
   ]
  },
  {
   "cell_type": "code",
   "execution_count": 206,
   "metadata": {},
   "outputs": [
    {
     "name": "stdout",
     "output_type": "stream",
     "text": [
      "Raw answer =  b'[[\"Tom Hanks\", [\"Jim Lovell\"], \"Apollo 13\", 1995], [\"Tom Hanks\", [\"Joe Fox\"], \"You\\'ve Got Mail\", 1998], [\"Tom Hanks\", [\"Jimmy Dugan\"], \"A League of Their Own\", 1992], [\"Tom Hanks\", [\"Joe Banks\"], \"Joe Versus the Volcano\", 1990], [\"Tom Hanks\", [\"Mr. White\"], \"That Thing You Do\", 1996], [\"Tom Hanks\", [\"Dr. Robert Langdon\"], \"The Da Vinci Code\", 2006], [\"Tom Hanks\", [\"Zachry\", \"Dr. Henry Goose\", \"Isaac Sachs\", \"Dermot Hoggins\"], \"Cloud Atlas\", 2012], [\"Tom Hanks\", [\"Chuck Noland\"], \"Cast Away\", 2000], [\"Tom Hanks\", [\"Paul Edgecomb\"], \"The Green Mile\", 1999], [\"Tom Hanks\", [\"Sam Baldwin\"], \"Sleepless in Seattle\", 1993], [\"Tom Hanks\", [\"Hero Boy\", \"Father\", \"Conductor\", \"Hobo\", \"Scrooge\", \"Santa Claus\"], \"The Polar Express\", 2004], [\"Tom Hanks\", [\"Rep. Charlie Wilson\"], \"Charlie Wilson\\'s War\", 2007]]'\n"
     ]
    }
   ],
   "source": [
    "roles = rd.get(key)\n",
    "print(\"Raw answer = \", roles)\n",
    "roles = json.loads(roles)\n",
    "roles = pandas.DataFrame(roles, columns=[\"Name\", \"Roles\", \"Title\", \"Released\"])"
   ]
  },
  {
   "cell_type": "code",
   "execution_count": 207,
   "metadata": {},
   "outputs": [
    {
     "data": {
      "text/html": [
       "<div>\n",
       "<style scoped>\n",
       "    .dataframe tbody tr th:only-of-type {\n",
       "        vertical-align: middle;\n",
       "    }\n",
       "\n",
       "    .dataframe tbody tr th {\n",
       "        vertical-align: top;\n",
       "    }\n",
       "\n",
       "    .dataframe thead th {\n",
       "        text-align: right;\n",
       "    }\n",
       "</style>\n",
       "<table border=\"1\" class=\"dataframe\">\n",
       "  <thead>\n",
       "    <tr style=\"text-align: right;\">\n",
       "      <th></th>\n",
       "      <th>Name</th>\n",
       "      <th>Roles</th>\n",
       "      <th>Title</th>\n",
       "      <th>Released</th>\n",
       "    </tr>\n",
       "  </thead>\n",
       "  <tbody>\n",
       "    <tr>\n",
       "      <td>0</td>\n",
       "      <td>Tom Hanks</td>\n",
       "      <td>[Jim Lovell]</td>\n",
       "      <td>Apollo 13</td>\n",
       "      <td>1995</td>\n",
       "    </tr>\n",
       "    <tr>\n",
       "      <td>1</td>\n",
       "      <td>Tom Hanks</td>\n",
       "      <td>[Joe Fox]</td>\n",
       "      <td>You've Got Mail</td>\n",
       "      <td>1998</td>\n",
       "    </tr>\n",
       "    <tr>\n",
       "      <td>2</td>\n",
       "      <td>Tom Hanks</td>\n",
       "      <td>[Jimmy Dugan]</td>\n",
       "      <td>A League of Their Own</td>\n",
       "      <td>1992</td>\n",
       "    </tr>\n",
       "    <tr>\n",
       "      <td>3</td>\n",
       "      <td>Tom Hanks</td>\n",
       "      <td>[Joe Banks]</td>\n",
       "      <td>Joe Versus the Volcano</td>\n",
       "      <td>1990</td>\n",
       "    </tr>\n",
       "    <tr>\n",
       "      <td>4</td>\n",
       "      <td>Tom Hanks</td>\n",
       "      <td>[Mr. White]</td>\n",
       "      <td>That Thing You Do</td>\n",
       "      <td>1996</td>\n",
       "    </tr>\n",
       "    <tr>\n",
       "      <td>5</td>\n",
       "      <td>Tom Hanks</td>\n",
       "      <td>[Dr. Robert Langdon]</td>\n",
       "      <td>The Da Vinci Code</td>\n",
       "      <td>2006</td>\n",
       "    </tr>\n",
       "    <tr>\n",
       "      <td>6</td>\n",
       "      <td>Tom Hanks</td>\n",
       "      <td>[Zachry, Dr. Henry Goose, Isaac Sachs, Dermot ...</td>\n",
       "      <td>Cloud Atlas</td>\n",
       "      <td>2012</td>\n",
       "    </tr>\n",
       "    <tr>\n",
       "      <td>7</td>\n",
       "      <td>Tom Hanks</td>\n",
       "      <td>[Chuck Noland]</td>\n",
       "      <td>Cast Away</td>\n",
       "      <td>2000</td>\n",
       "    </tr>\n",
       "    <tr>\n",
       "      <td>8</td>\n",
       "      <td>Tom Hanks</td>\n",
       "      <td>[Paul Edgecomb]</td>\n",
       "      <td>The Green Mile</td>\n",
       "      <td>1999</td>\n",
       "    </tr>\n",
       "    <tr>\n",
       "      <td>9</td>\n",
       "      <td>Tom Hanks</td>\n",
       "      <td>[Sam Baldwin]</td>\n",
       "      <td>Sleepless in Seattle</td>\n",
       "      <td>1993</td>\n",
       "    </tr>\n",
       "    <tr>\n",
       "      <td>10</td>\n",
       "      <td>Tom Hanks</td>\n",
       "      <td>[Hero Boy, Father, Conductor, Hobo, Scrooge, S...</td>\n",
       "      <td>The Polar Express</td>\n",
       "      <td>2004</td>\n",
       "    </tr>\n",
       "    <tr>\n",
       "      <td>11</td>\n",
       "      <td>Tom Hanks</td>\n",
       "      <td>[Rep. Charlie Wilson]</td>\n",
       "      <td>Charlie Wilson's War</td>\n",
       "      <td>2007</td>\n",
       "    </tr>\n",
       "  </tbody>\n",
       "</table>\n",
       "</div>"
      ],
      "text/plain": [
       "         Name                                              Roles  \\\n",
       "0   Tom Hanks                                       [Jim Lovell]   \n",
       "1   Tom Hanks                                          [Joe Fox]   \n",
       "2   Tom Hanks                                      [Jimmy Dugan]   \n",
       "3   Tom Hanks                                        [Joe Banks]   \n",
       "4   Tom Hanks                                        [Mr. White]   \n",
       "5   Tom Hanks                               [Dr. Robert Langdon]   \n",
       "6   Tom Hanks  [Zachry, Dr. Henry Goose, Isaac Sachs, Dermot ...   \n",
       "7   Tom Hanks                                     [Chuck Noland]   \n",
       "8   Tom Hanks                                    [Paul Edgecomb]   \n",
       "9   Tom Hanks                                      [Sam Baldwin]   \n",
       "10  Tom Hanks  [Hero Boy, Father, Conductor, Hobo, Scrooge, S...   \n",
       "11  Tom Hanks                              [Rep. Charlie Wilson]   \n",
       "\n",
       "                     Title  Released  \n",
       "0                Apollo 13      1995  \n",
       "1          You've Got Mail      1998  \n",
       "2    A League of Their Own      1992  \n",
       "3   Joe Versus the Volcano      1990  \n",
       "4        That Thing You Do      1996  \n",
       "5        The Da Vinci Code      2006  \n",
       "6              Cloud Atlas      2012  \n",
       "7                Cast Away      2000  \n",
       "8           The Green Mile      1999  \n",
       "9     Sleepless in Seattle      1993  \n",
       "10       The Polar Express      2004  \n",
       "11    Charlie Wilson's War      2007  "
      ]
     },
     "execution_count": 207,
     "metadata": {},
     "output_type": "execute_result"
    }
   ],
   "source": [
    "roles"
   ]
  },
  {
   "cell_type": "markdown",
   "metadata": {},
   "source": [
    "# HW4 $-$ Part 1: Neo4j"
   ]
  },
  {
   "cell_type": "markdown",
   "metadata": {},
   "source": [
    "## Creating Nodes\n",
    "\n",
    "- The following people are both ```Person``` and ```Fan.``` Please create nodes for these people.\n",
    "    - George Washington\n",
    "    - Thomas Jefferson\n",
    "    - James Madison\n",
    "    - Abraham Lincoln\n",
    "    - John F. Kennedy\n",
    "    "
   ]
  },
  {
   "cell_type": "code",
   "execution_count": 47,
   "metadata": {},
   "outputs": [],
   "source": [
    "name = [\n",
    "    \"George Washington\",\n",
    "    \"John Adams\",\n",
    "    \"Thomas Jefferson\",\n",
    "    \"James Madison\",\n",
    "    \"James Monroe\",\n",
    "    \"Ted Williams\"\n",
    "]\n",
    "    \n",
    "# Your create code goes here."
   ]
  },
  {
   "cell_type": "markdown",
   "metadata": {},
   "source": [
    "- After creation, run the following code. You should get the sample answer."
   ]
  },
  {
   "cell_type": "code",
   "execution_count": 48,
   "metadata": {},
   "outputs": [],
   "source": [
    "fan_q = \"match (f:Fan) return f\"\n",
    "fans = []\n",
    "fan_res = gdb.query(fan_q)\n",
    "\n",
    "for f in fan_res:\n",
    "    t = get_stuff(f[0])\n",
    "    t = [t['id'], t['labels'], t['properties']['name']]\n",
    "    fans.append(t)\n",
    "    \n",
    "fan_df = pandas.DataFrame(fans, columns=['Id', 'Labels', 'Name'])"
   ]
  },
  {
   "cell_type": "code",
   "execution_count": 45,
   "metadata": {},
   "outputs": [
    {
     "data": {
      "text/html": [
       "<div>\n",
       "<style scoped>\n",
       "    .dataframe tbody tr th:only-of-type {\n",
       "        vertical-align: middle;\n",
       "    }\n",
       "\n",
       "    .dataframe tbody tr th {\n",
       "        vertical-align: top;\n",
       "    }\n",
       "\n",
       "    .dataframe thead th {\n",
       "        text-align: right;\n",
       "    }\n",
       "</style>\n",
       "<table border=\"1\" class=\"dataframe\">\n",
       "  <thead>\n",
       "    <tr style=\"text-align: right;\">\n",
       "      <th></th>\n",
       "      <th>Id</th>\n",
       "      <th>Labels</th>\n",
       "      <th>Name</th>\n",
       "    </tr>\n",
       "  </thead>\n",
       "  <tbody>\n",
       "    <tr>\n",
       "      <td>0</td>\n",
       "      <td>171</td>\n",
       "      <td>[Person, Fan]</td>\n",
       "      <td>John Adams</td>\n",
       "    </tr>\n",
       "    <tr>\n",
       "      <td>1</td>\n",
       "      <td>230</td>\n",
       "      <td>[Person, Fan]</td>\n",
       "      <td>James Monroe</td>\n",
       "    </tr>\n",
       "    <tr>\n",
       "      <td>2</td>\n",
       "      <td>252</td>\n",
       "      <td>[Person, Fan]</td>\n",
       "      <td>George Washington</td>\n",
       "    </tr>\n",
       "    <tr>\n",
       "      <td>3</td>\n",
       "      <td>271</td>\n",
       "      <td>[Person, Fan]</td>\n",
       "      <td>Thomas Jefferson</td>\n",
       "    </tr>\n",
       "    <tr>\n",
       "      <td>4</td>\n",
       "      <td>272</td>\n",
       "      <td>[Person, Fan]</td>\n",
       "      <td>Ted Williams</td>\n",
       "    </tr>\n",
       "    <tr>\n",
       "      <td>5</td>\n",
       "      <td>318</td>\n",
       "      <td>[Person, Fan]</td>\n",
       "      <td>James Madison</td>\n",
       "    </tr>\n",
       "  </tbody>\n",
       "</table>\n",
       "</div>"
      ],
      "text/plain": [
       "    Id         Labels               Name\n",
       "0  171  [Person, Fan]         John Adams\n",
       "1  230  [Person, Fan]       James Monroe\n",
       "2  252  [Person, Fan]  George Washington\n",
       "3  271  [Person, Fan]   Thomas Jefferson\n",
       "4  272  [Person, Fan]       Ted Williams\n",
       "5  318  [Person, Fan]      James Madison"
      ]
     },
     "execution_count": 45,
     "metadata": {},
     "output_type": "execute_result"
    }
   ],
   "source": [
    "fan_df"
   ]
  },
  {
   "cell_type": "markdown",
   "metadata": {},
   "source": [
    "## Creating Relationships\n",
    "\n",
    "- Create ```Follows``` relationships:\n",
    "    - John Adams ```Follows``` George Washing\n",
    "    - Thomas Jefferson ```Follows``` John Adams\n",
    "    - James Madison ```Follows``` John Adams\n",
    "    - James Monroe ```Follows``` James Madison\n",
    "    - EVERYONE ```Follows``` Ted Williams"
   ]
  },
  {
   "cell_type": "code",
   "execution_count": 49,
   "metadata": {},
   "outputs": [],
   "source": [
    "# Your create code goes here.\n",
    "\n",
    "    "
   ]
  },
  {
   "cell_type": "markdown",
   "metadata": {},
   "source": [
    "- After running your code, returning all of the ```Fans``` in the browser should look like:\n",
    "\n",
    "<img src=\"./fans.png\">"
   ]
  },
  {
   "cell_type": "markdown",
   "metadata": {},
   "source": [
    "- You can also run the following test to check your answer:"
   ]
  },
  {
   "cell_type": "code",
   "execution_count": 57,
   "metadata": {},
   "outputs": [
    {
     "data": {
      "text/html": [
       "<div>\n",
       "<style scoped>\n",
       "    .dataframe tbody tr th:only-of-type {\n",
       "        vertical-align: middle;\n",
       "    }\n",
       "\n",
       "    .dataframe tbody tr th {\n",
       "        vertical-align: top;\n",
       "    }\n",
       "\n",
       "    .dataframe thead th {\n",
       "        text-align: right;\n",
       "    }\n",
       "</style>\n",
       "<table border=\"1\" class=\"dataframe\">\n",
       "  <thead>\n",
       "    <tr style=\"text-align: right;\">\n",
       "      <th></th>\n",
       "      <th>Follower</th>\n",
       "      <th>Followee</th>\n",
       "    </tr>\n",
       "  </thead>\n",
       "  <tbody>\n",
       "    <tr>\n",
       "      <td>0</td>\n",
       "      <td>Thomas Jefferson</td>\n",
       "      <td>Ted Williams</td>\n",
       "    </tr>\n",
       "    <tr>\n",
       "      <td>1</td>\n",
       "      <td>Thomas Jefferson</td>\n",
       "      <td>John Adams</td>\n",
       "    </tr>\n",
       "    <tr>\n",
       "      <td>2</td>\n",
       "      <td>John Adams</td>\n",
       "      <td>Ted Williams</td>\n",
       "    </tr>\n",
       "    <tr>\n",
       "      <td>3</td>\n",
       "      <td>John Adams</td>\n",
       "      <td>George Washington</td>\n",
       "    </tr>\n",
       "    <tr>\n",
       "      <td>4</td>\n",
       "      <td>James Monroe</td>\n",
       "      <td>Ted Williams</td>\n",
       "    </tr>\n",
       "    <tr>\n",
       "      <td>5</td>\n",
       "      <td>James Monroe</td>\n",
       "      <td>James Madison</td>\n",
       "    </tr>\n",
       "    <tr>\n",
       "      <td>6</td>\n",
       "      <td>George Washington</td>\n",
       "      <td>Ted Williams</td>\n",
       "    </tr>\n",
       "    <tr>\n",
       "      <td>7</td>\n",
       "      <td>James Madison</td>\n",
       "      <td>Ted Williams</td>\n",
       "    </tr>\n",
       "    <tr>\n",
       "      <td>8</td>\n",
       "      <td>James Madison</td>\n",
       "      <td>Thomas Jefferson</td>\n",
       "    </tr>\n",
       "  </tbody>\n",
       "</table>\n",
       "</div>"
      ],
      "text/plain": [
       "            Follower           Followee\n",
       "0   Thomas Jefferson       Ted Williams\n",
       "1   Thomas Jefferson         John Adams\n",
       "2         John Adams       Ted Williams\n",
       "3         John Adams  George Washington\n",
       "4       James Monroe       Ted Williams\n",
       "5       James Monroe      James Madison\n",
       "6  George Washington       Ted Williams\n",
       "7      James Madison       Ted Williams\n",
       "8      James Madison   Thomas Jefferson"
      ]
     },
     "execution_count": 57,
     "metadata": {},
     "output_type": "execute_result"
    }
   ],
   "source": [
    "q = \"match (n:Fan)-[r:FOLLOWS]->(m) return n.name, m.name\"\n",
    "df = pandas.DataFrame(d, columns=['Follower', 'Followee'])\n",
    "df"
   ]
  },
  {
   "cell_type": "markdown",
   "metadata": {},
   "source": [
    "- Create some ```Likes``` relationships:\n",
    "    - Ted Williams ```Likes``` the ```Person``` Tom Hanks\n",
    "    - James Monroe ```Likes``` the ```Person``` Robert Longo"
   ]
  },
  {
   "cell_type": "code",
   "execution_count": 61,
   "metadata": {},
   "outputs": [],
   "source": [
    "# Your create code goes here."
   ]
  },
  {
   "cell_type": "markdown",
   "metadata": {},
   "source": [
    "- After creating the relationships, examing ```Likes``` in the browser should return:\n",
    "\n",
    "<img src=\"./likes.png\">\n",
    "\n"
   ]
  },
  {
   "cell_type": "markdown",
   "metadata": {},
   "source": [
    "- The following code will test your result:"
   ]
  },
  {
   "cell_type": "code",
   "execution_count": 65,
   "metadata": {},
   "outputs": [
    {
     "data": {
      "text/html": [
       "<div>\n",
       "<style scoped>\n",
       "    .dataframe tbody tr th:only-of-type {\n",
       "        vertical-align: middle;\n",
       "    }\n",
       "\n",
       "    .dataframe tbody tr th {\n",
       "        vertical-align: top;\n",
       "    }\n",
       "\n",
       "    .dataframe thead th {\n",
       "        text-align: right;\n",
       "    }\n",
       "</style>\n",
       "<table border=\"1\" class=\"dataframe\">\n",
       "  <thead>\n",
       "    <tr style=\"text-align: right;\">\n",
       "      <th></th>\n",
       "      <th>Liker</th>\n",
       "      <th>Likee</th>\n",
       "    </tr>\n",
       "  </thead>\n",
       "  <tbody>\n",
       "    <tr>\n",
       "      <td>0</td>\n",
       "      <td>Ted Williams</td>\n",
       "      <td>Tom Hanks</td>\n",
       "    </tr>\n",
       "    <tr>\n",
       "      <td>1</td>\n",
       "      <td>James Monroe</td>\n",
       "      <td>Robert Longo</td>\n",
       "    </tr>\n",
       "  </tbody>\n",
       "</table>\n",
       "</div>"
      ],
      "text/plain": [
       "          Liker         Likee\n",
       "0  Ted Williams     Tom Hanks\n",
       "1  James Monroe  Robert Longo"
      ]
     },
     "execution_count": 65,
     "metadata": {},
     "output_type": "execute_result"
    }
   ],
   "source": [
    "q = \"match (n)-[:LIKES]->(m) return n.name, m.name\"\n",
    "res = gdb.query(q)\n",
    "df_likes = pandas.DataFrame(res, columns=['Liker', 'Likee'])\n",
    "df_likes"
   ]
  },
  {
   "cell_type": "markdown",
   "metadata": {},
   "source": [
    "## Spooky Query\n",
    "\n",
    "- Find a shortest non-directed path from ```Person``` Robert Longo to ```Person``` Kevin Bacon. Running the query in the Neo4j browser will return:\n",
    "\n",
    "\n",
    "<hr style=\"height:2px\">\n",
    "Write your query in here."
   ]
  },
  {
   "cell_type": "markdown",
   "metadata": {},
   "source": []
  },
  {
   "cell_type": "markdown",
   "metadata": {},
   "source": [
    "<hr style=\"height:2px\">\n",
    "\n",
    "- Running your query in Neo4j Browser will produce:\n",
    "\n",
    "<img src=\"./path.png\">"
   ]
  },
  {
   "cell_type": "markdown",
   "metadata": {},
   "source": [
    "- Set the variable q below to your query."
   ]
  },
  {
   "cell_type": "code",
   "execution_count": 103,
   "metadata": {},
   "outputs": [],
   "source": [
    "q = \"Enter your query here.\""
   ]
  },
  {
   "cell_type": "markdown",
   "metadata": {},
   "source": [
    "- You can test your query with the following code:"
   ]
  },
  {
   "cell_type": "code",
   "execution_count": 141,
   "metadata": {},
   "outputs": [
    {
     "name": "stdout",
     "output_type": "stream",
     "text": [
      "James Monroe LIKES Robert Longo\n",
      "James Monroe FOLLOWS Ted Williams\n",
      "Ted Williams LIKES Tom Hanks\n",
      "Tom Hanks ACTED_IN Apollo 13\n",
      "Kevin Bacon ACTED_IN Apollo 13\n"
     ]
    }
   ],
   "source": [
    "for p in res:\n",
    "    for x in p:\n",
    "        if type(x) == client.Relationship:\n",
    "            n = x.start\n",
    "            m = x.end\n",
    "            l1 = n.get('name', None)\n",
    "            if l1 is None:\n",
    "                l1 = n.get('title', None)\n",
    "            l2 = m.get('name', None)\n",
    "            if l2 is None:\n",
    "                l2 = m.get('title', None)\n",
    "            print(l1, x.type, l2)\n",
    "            "
   ]
  },
  {
   "cell_type": "markdown",
   "metadata": {},
   "source": [
    "# Redis\n",
    "\n",
    "## Introduction\n",
    "\n",
    "- One if, if not the most common, uses of Redis is for result caching.\n",
    "\n",
    "\n",
    "- The following figure provides an overview of the concept.\n",
    "\n",
    "| <img src=\"./redis_cache.png\"> |\n",
    "| :---: |\n",
    "| [Redis Caching](https://www.sohamkamani.com/blog/2016/10/14/make-your-node-server-faster-with-redis-cache/) |\n",
    "\n",
    "\n",
    "- You can find more details on the concept [here](https://www.sohamkamani.com/blog/2016/10/14/make-your-node-server-faster-with-redis-cache/)\n"
   ]
  },
  {
   "cell_type": "markdown",
   "metadata": {},
   "source": [
    "- We have seen the recurring pattern for queries of the form:\n",
    "\n",
    "```\n",
    "{\n",
    "    \"table_name\": \"t_name\",\n",
    "    \"template\": {\n",
    "        \"p1\": \"v1\",\n",
    "        \"p2\": \"v1\",\n",
    "        ... ...\n",
    "    }\n",
    "}\n",
    "```\n",
    "\n",
    "- The concept represents simple queries in SQL, REST, ...\n",
    "\n",
    "\n",
    "- The code below shows that you can do something similar with Neo4j."
   ]
  },
  {
   "cell_type": "code",
   "execution_count": 177,
   "metadata": {},
   "outputs": [],
   "source": [
    "def query_by_template(db, t_name, template):\n",
    "    \n",
    "    q = \"match (n:\" + t_name + \")  \"\n",
    "    \n",
    "    terms = []\n",
    "    for k,v in template.items():\n",
    "        if type(v) == str:\n",
    "            v = \"'\" + v + \"'\"\n",
    "        terms.append(\"n.\"+ k + \"=\" + str(v))\n",
    "        \n",
    "    if len(terms) > 0:\n",
    "        q += \"where \" + ' and '.join(terms)\n",
    "        \n",
    "    q += \" return n \"\n",
    "    \n",
    "    res = db.query(q)\n",
    "    \n",
    "    result = []\n",
    "    for r in res:\n",
    "        result.append(get_stuff(r[0]))\n",
    "    return result"
   ]
  },
  {
   "cell_type": "code",
   "execution_count": 178,
   "metadata": {},
   "outputs": [
    {
     "name": "stdout",
     "output_type": "stream",
     "text": [
      "[{'id': 121, 'labels': ['Movie'], 'properties': {'tagline': 'Speed has no limits', 'title': 'Speed Racer', 'released': 2008}}, {'id': 137, 'labels': ['Movie'], 'properties': {'tagline': '400 million people were waiting for the truth.', 'title': 'Frost/Nixon', 'released': 2008}}]\n"
     ]
    }
   ],
   "source": [
    "t_name = \"Movie\"\n",
    "template = {\"released\": 2008}\n",
    "res = query_by_template(gdb, t_name, template)\n",
    "#print(res)\n",
    "\n",
    "print(res)"
   ]
  },
  {
   "cell_type": "markdown",
   "metadata": {},
   "source": [
    "## Assignment\n",
    "\n",
    "- We have seen that Redis stores data in many forms, one of which is key and string value.\n",
    "\n",
    "\n",
    "- The following is a template for two functions that extend the example above to support caching in Redis"
   ]
  },
  {
   "cell_type": "code",
   "execution_count": 184,
   "metadata": {},
   "outputs": [],
   "source": [
    "def cache_it(template, value):\n",
    "    pass\n",
    "\n",
    "def check_cache(template):\n",
    "    pass"
   ]
  },
  {
   "cell_type": "markdown",
   "metadata": {},
   "source": [
    "- And this is a simple example of extending the query function above to exploit caching.\n"
   ]
  },
  {
   "cell_type": "code",
   "execution_count": 190,
   "metadata": {},
   "outputs": [],
   "source": [
    "import copy\n",
    "\n",
    "def query_by_template_cache(db, t_name, template):\n",
    "    \n",
    "    if template is not None:\n",
    "        tt = t_name + \":\" + json.dumps(template)\n",
    "    else:\n",
    "        tt = t_name\n",
    "        \n",
    "    r = check_cache(tt)\n",
    "    \n",
    "    if r is not None:\n",
    "        print(\"Cache HIT!\")\n",
    "        return json.loads(r)\n",
    "    else:\n",
    "        print(\"Cache MISS!\")\n",
    "    \n",
    "    q = \"match (n:\" + t_name + \")  \"\n",
    "    \n",
    "    terms = []\n",
    "    for k,v in template.items():\n",
    "        if type(v) == str:\n",
    "            v = \"'\" + v + \"'\"\n",
    "        terms.append(\"n.\"+ k + \"=\" + str(v))\n",
    "        \n",
    "    if len(terms) > 0:\n",
    "        q += \"where \" + ' and '.join(terms)\n",
    "        \n",
    "    q += \" return n \"\n",
    "    \n",
    "    res = db.query(q)\n",
    "    \n",
    "    result = []\n",
    "    for r in res:\n",
    "        result.append(get_stuff(r[0]))\n",
    "        \n",
    "    cache_it(tt, json.dumps(result))\n",
    "    \n",
    "    return result"
   ]
  },
  {
   "cell_type": "markdown",
   "metadata": {},
   "source": [
    "- Implement the functions ```check_cache``` and ```cache_hit.```\n",
    "\n",
    "\n",
    "- You can test your functions below."
   ]
  },
  {
   "cell_type": "code",
   "execution_count": 192,
   "metadata": {},
   "outputs": [
    {
     "name": "stdout",
     "output_type": "stream",
     "text": [
      "Cache MISS!\n",
      "[{'id': 137, 'labels': ['Movie'], 'properties': {'tagline': '400 million people were waiting for the truth.', 'title': 'Frost/Nixon', 'released': 2008}}]\n"
     ]
    }
   ],
   "source": [
    "t_name = \"Movie\"\n",
    "template = {\"released\": 2008, \"title\": \"Frost/Nixon\"}\n",
    "res = query_by_template_cache(gdb, t_name, template)\n",
    "print(res)"
   ]
  },
  {
   "cell_type": "code",
   "execution_count": 193,
   "metadata": {},
   "outputs": [
    {
     "name": "stdout",
     "output_type": "stream",
     "text": [
      "Cache HIT!\n",
      "[{\"id\": 137, \"labels\": [\"Movie\"], \"properties\": {\"tagline\": \"400 million people were waiting for the truth.\", \"title\": \"Frost/Nixon\", \"released\": 2008}}]\n"
     ]
    }
   ],
   "source": [
    "t_name = \"Movie\"\n",
    "template = {\"released\": 2008, \"title\": \"Frost/Nixon\"}\n",
    "res = query_by_template_cache(gdb, t_name, template)\n",
    "print(res)"
   ]
  },
  {
   "cell_type": "code",
   "execution_count": null,
   "metadata": {},
   "outputs": [],
   "source": []
  }
 ],
 "metadata": {
  "kernelspec": {
   "display_name": "Python 3",
   "language": "python",
   "name": "python3"
  },
  "language_info": {
   "codemirror_mode": {
    "name": "ipython",
    "version": 3
   },
   "file_extension": ".py",
   "mimetype": "text/x-python",
   "name": "python",
   "nbconvert_exporter": "python",
   "pygments_lexer": "ipython3",
   "version": "3.6.9"
  },
  "toc": {
   "nav_menu": {},
   "number_sections": true,
   "sideBar": true,
   "skip_h1_title": false,
   "title_cell": "Table of Contents",
   "title_sidebar": "Contents",
   "toc_cell": false,
   "toc_position": {},
   "toc_section_display": true,
   "toc_window_display": false
  }
 },
 "nbformat": 4,
 "nbformat_minor": 2
}
